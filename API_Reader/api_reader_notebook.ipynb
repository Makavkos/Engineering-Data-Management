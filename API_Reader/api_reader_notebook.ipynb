{
 "cells": [
  {
   "cell_type": "code",
   "execution_count": null,
   "id": "46cfc45b",
   "metadata": {},
   "outputs": [
    {
     "name": "stdout",
     "output_type": "stream",
     "text": [
      "Данные сохранены в файл 'cocktails.csv'\n",
      "                       Название        Категория                    Стакан  \\\n",
      "0                     Margarita   Ordinary Drink            Cocktail glass   \n",
      "1                Blue Margarita   Ordinary Drink            Cocktail glass   \n",
      "2             Tommy's Margarita   Ordinary Drink       Old-Fashioned glass   \n",
      "3            Whitecap Margarita  Other / Unknown  Margarita/Coupette glass   \n",
      "4          Strawberry Margarita   Ordinary Drink            Cocktail glass   \n",
      "5  Smashed Watermelon Margarita         Cocktail             Collins glass   \n",
      "\n",
      "  Алкогольный/Безалкогольный              Класс IBA  \n",
      "0                  Alcoholic  Contemporary Classics  \n",
      "1                  Alcoholic                   None  \n",
      "2                  Alcoholic         New Era Drinks  \n",
      "3                  Alcoholic                   None  \n",
      "4                  Alcoholic                   None  \n",
      "5                  Alcoholic                   None  \n"
     ]
    }
   ],
   "source": [
    "import requests\n",
    "from tqdm import tqdm\n",
    "import pandas as pd\n",
    "\n",
    "\n",
    "url = \"https://www.thecocktaildb.com/api/json/v1/1/search.php?s=margarita\"\n",
    "response = requests.get(url)\n",
    "    \n",
    "if response.status_code == 200:\n",
    "    data = response.json()\n",
    "    Coctail_list=[]\n",
    "    for drink in data['drinks']:\n",
    "        cocktail_info = {\n",
    "            'Название': drink['strDrink'],\n",
    "            'Категория': drink['strCategory'],\n",
    "            'Стакан': drink['strGlass'],\n",
    "            'Алкогольный/Безалкогольный': drink['strAlcoholic'],\n",
    "            'Класс IBA': drink ['strIBA'],\n",
    "        }\n",
    "        Coctail_list.append(cocktail_info)\n",
    "    \n",
    "else:\n",
    "    print(\"Ошибка:\", response.status_code)\n",
    "\n",
    "\n",
    "data_frame = pd.DataFrame(Coctail_list)\n",
    "data_frame.to_csv('cocktails.csv', index=False, encoding='utf-8')\n",
    "print(\"Данные сохранены в файл 'cocktails.csv'\")\n",
    "\n",
    "print(data_frame)\n"
   ]
  }
 ],
 "metadata": {
  "kernelspec": {
   "display_name": "API_reader",
   "language": "python",
   "name": "python3"
  },
  "language_info": {
   "codemirror_mode": {
    "name": "ipython",
    "version": 3
   },
   "file_extension": ".py",
   "mimetype": "text/x-python",
   "name": "python",
   "nbconvert_exporter": "python",
   "pygments_lexer": "ipython3",
   "version": "3.13.7"
  }
 },
 "nbformat": 4,
 "nbformat_minor": 5
}
