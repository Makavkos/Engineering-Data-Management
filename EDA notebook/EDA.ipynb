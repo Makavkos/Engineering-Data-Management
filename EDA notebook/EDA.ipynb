{
 "cells": [
  {
   "cell_type": "markdown",
   "id": "144d856e",
   "metadata": {},
   "source": [
    "# EDA датасета рецептур домашних пивоваров "
   ]
  },
  {
   "cell_type": "markdown",
   "id": "0efa7f8e",
   "metadata": {},
   "source": [
    "## Выгрузка датасета из диска:"
   ]
  },
  {
   "cell_type": "code",
   "execution_count": 216,
   "id": "3156cc2a",
   "metadata": {},
   "outputs": [
    {
     "data": {
      "text/html": [
       "<div>\n",
       "<style scoped>\n",
       "    .dataframe tbody tr th:only-of-type {\n",
       "        vertical-align: middle;\n",
       "    }\n",
       "\n",
       "    .dataframe tbody tr th {\n",
       "        vertical-align: top;\n",
       "    }\n",
       "\n",
       "    .dataframe thead th {\n",
       "        text-align: right;\n",
       "    }\n",
       "</style>\n",
       "<table border=\"1\" class=\"dataframe\">\n",
       "  <thead>\n",
       "    <tr style=\"text-align: right;\">\n",
       "      <th></th>\n",
       "      <th>BeerID</th>\n",
       "      <th>Name</th>\n",
       "      <th>URL</th>\n",
       "      <th>Style</th>\n",
       "      <th>StyleID</th>\n",
       "      <th>Size(L)</th>\n",
       "      <th>OG</th>\n",
       "      <th>FG</th>\n",
       "      <th>ABV</th>\n",
       "      <th>IBU</th>\n",
       "      <th>...</th>\n",
       "      <th>BoilGravity</th>\n",
       "      <th>Efficiency</th>\n",
       "      <th>MashThickness</th>\n",
       "      <th>SugarScale</th>\n",
       "      <th>BrewMethod</th>\n",
       "      <th>PitchRate</th>\n",
       "      <th>PrimaryTemp</th>\n",
       "      <th>PrimingMethod</th>\n",
       "      <th>PrimingAmount</th>\n",
       "      <th>UserId</th>\n",
       "    </tr>\n",
       "  </thead>\n",
       "  <tbody>\n",
       "    <tr>\n",
       "      <th>0</th>\n",
       "      <td>1</td>\n",
       "      <td>Vanilla Cream Ale</td>\n",
       "      <td>/homebrew/recipe/view/1633/vanilla-cream-ale</td>\n",
       "      <td>Cream Ale</td>\n",
       "      <td>45</td>\n",
       "      <td>21.77</td>\n",
       "      <td>1.055</td>\n",
       "      <td>1.013</td>\n",
       "      <td>5.48</td>\n",
       "      <td>17.65</td>\n",
       "      <td>...</td>\n",
       "      <td>1.038</td>\n",
       "      <td>70.0</td>\n",
       "      <td>NaN</td>\n",
       "      <td>Specific Gravity</td>\n",
       "      <td>All Grain</td>\n",
       "      <td>NaN</td>\n",
       "      <td>17.78</td>\n",
       "      <td>corn sugar</td>\n",
       "      <td>4.5 oz</td>\n",
       "      <td>116.0</td>\n",
       "    </tr>\n",
       "    <tr>\n",
       "      <th>1</th>\n",
       "      <td>2</td>\n",
       "      <td>Southern Tier Pumking clone</td>\n",
       "      <td>/homebrew/recipe/view/16367/southern-tier-pumk...</td>\n",
       "      <td>Holiday/Winter Special Spiced Beer</td>\n",
       "      <td>85</td>\n",
       "      <td>20.82</td>\n",
       "      <td>1.083</td>\n",
       "      <td>1.021</td>\n",
       "      <td>8.16</td>\n",
       "      <td>60.65</td>\n",
       "      <td>...</td>\n",
       "      <td>1.070</td>\n",
       "      <td>70.0</td>\n",
       "      <td>NaN</td>\n",
       "      <td>Specific Gravity</td>\n",
       "      <td>All Grain</td>\n",
       "      <td>NaN</td>\n",
       "      <td>NaN</td>\n",
       "      <td>NaN</td>\n",
       "      <td>NaN</td>\n",
       "      <td>955.0</td>\n",
       "    </tr>\n",
       "    <tr>\n",
       "      <th>2</th>\n",
       "      <td>3</td>\n",
       "      <td>Zombie Dust Clone - EXTRACT</td>\n",
       "      <td>/homebrew/recipe/view/5920/zombie-dust-clone-e...</td>\n",
       "      <td>American IPA</td>\n",
       "      <td>7</td>\n",
       "      <td>18.93</td>\n",
       "      <td>1.063</td>\n",
       "      <td>1.018</td>\n",
       "      <td>5.91</td>\n",
       "      <td>59.25</td>\n",
       "      <td>...</td>\n",
       "      <td>NaN</td>\n",
       "      <td>70.0</td>\n",
       "      <td>NaN</td>\n",
       "      <td>Specific Gravity</td>\n",
       "      <td>extract</td>\n",
       "      <td>NaN</td>\n",
       "      <td>NaN</td>\n",
       "      <td>NaN</td>\n",
       "      <td>NaN</td>\n",
       "      <td>NaN</td>\n",
       "    </tr>\n",
       "    <tr>\n",
       "      <th>3</th>\n",
       "      <td>4</td>\n",
       "      <td>Zombie Dust Clone - ALL GRAIN</td>\n",
       "      <td>/homebrew/recipe/view/5916/zombie-dust-clone-a...</td>\n",
       "      <td>American IPA</td>\n",
       "      <td>7</td>\n",
       "      <td>22.71</td>\n",
       "      <td>1.061</td>\n",
       "      <td>1.017</td>\n",
       "      <td>5.80</td>\n",
       "      <td>54.48</td>\n",
       "      <td>...</td>\n",
       "      <td>NaN</td>\n",
       "      <td>70.0</td>\n",
       "      <td>NaN</td>\n",
       "      <td>Specific Gravity</td>\n",
       "      <td>All Grain</td>\n",
       "      <td>NaN</td>\n",
       "      <td>NaN</td>\n",
       "      <td>NaN</td>\n",
       "      <td>NaN</td>\n",
       "      <td>NaN</td>\n",
       "    </tr>\n",
       "    <tr>\n",
       "      <th>4</th>\n",
       "      <td>5</td>\n",
       "      <td>Bakke Brygg Belgisk Blonde 50 l</td>\n",
       "      <td>/homebrew/recipe/view/89534/bakke-brygg-belgis...</td>\n",
       "      <td>Belgian Blond Ale</td>\n",
       "      <td>20</td>\n",
       "      <td>50.00</td>\n",
       "      <td>1.060</td>\n",
       "      <td>1.010</td>\n",
       "      <td>6.48</td>\n",
       "      <td>17.84</td>\n",
       "      <td>...</td>\n",
       "      <td>1.050</td>\n",
       "      <td>72.0</td>\n",
       "      <td>NaN</td>\n",
       "      <td>Specific Gravity</td>\n",
       "      <td>All Grain</td>\n",
       "      <td>NaN</td>\n",
       "      <td>19.00</td>\n",
       "      <td>Sukkerlake</td>\n",
       "      <td>6-7 g sukker/l</td>\n",
       "      <td>18325.0</td>\n",
       "    </tr>\n",
       "  </tbody>\n",
       "</table>\n",
       "<p>5 rows × 23 columns</p>\n",
       "</div>"
      ],
      "text/plain": [
       "   BeerID                             Name  \\\n",
       "0       1                Vanilla Cream Ale   \n",
       "1       2      Southern Tier Pumking clone   \n",
       "2       3      Zombie Dust Clone - EXTRACT   \n",
       "3       4    Zombie Dust Clone - ALL GRAIN   \n",
       "4       5  Bakke Brygg Belgisk Blonde 50 l   \n",
       "\n",
       "                                                 URL  \\\n",
       "0       /homebrew/recipe/view/1633/vanilla-cream-ale   \n",
       "1  /homebrew/recipe/view/16367/southern-tier-pumk...   \n",
       "2  /homebrew/recipe/view/5920/zombie-dust-clone-e...   \n",
       "3  /homebrew/recipe/view/5916/zombie-dust-clone-a...   \n",
       "4  /homebrew/recipe/view/89534/bakke-brygg-belgis...   \n",
       "\n",
       "                                Style  StyleID  Size(L)     OG     FG   ABV  \\\n",
       "0                           Cream Ale       45    21.77  1.055  1.013  5.48   \n",
       "1  Holiday/Winter Special Spiced Beer       85    20.82  1.083  1.021  8.16   \n",
       "2                        American IPA        7    18.93  1.063  1.018  5.91   \n",
       "3                        American IPA        7    22.71  1.061  1.017  5.80   \n",
       "4                   Belgian Blond Ale       20    50.00  1.060  1.010  6.48   \n",
       "\n",
       "     IBU  ...  BoilGravity  Efficiency  MashThickness        SugarScale  \\\n",
       "0  17.65  ...        1.038        70.0            NaN  Specific Gravity   \n",
       "1  60.65  ...        1.070        70.0            NaN  Specific Gravity   \n",
       "2  59.25  ...          NaN        70.0            NaN  Specific Gravity   \n",
       "3  54.48  ...          NaN        70.0            NaN  Specific Gravity   \n",
       "4  17.84  ...        1.050        72.0            NaN  Specific Gravity   \n",
       "\n",
       "   BrewMethod  PitchRate PrimaryTemp PrimingMethod   PrimingAmount   UserId  \n",
       "0   All Grain        NaN       17.78    corn sugar          4.5 oz    116.0  \n",
       "1   All Grain        NaN         NaN           NaN             NaN    955.0  \n",
       "2     extract        NaN         NaN           NaN             NaN      NaN  \n",
       "3   All Grain        NaN         NaN           NaN             NaN      NaN  \n",
       "4   All Grain        NaN       19.00    Sukkerlake  6-7 g sukker/l  18325.0  \n",
       "\n",
       "[5 rows x 23 columns]"
      ]
     },
     "execution_count": 216,
     "metadata": {},
     "output_type": "execute_result"
    }
   ],
   "source": [
    "import pandas as pd\n",
    "\n",
    "FILE_ID = \"15_7a8dD35xB1WMn5Vl6Z3yAfTIDX3jDh\"  # ID файла на Google Drive\n",
    "file_url = f\"https://drive.google.com/uc?id={FILE_ID}\"\n",
    "\n",
    "raw_data = pd.read_csv(file_url, encoding= 'cp1251')    # читаем файл\n",
    "\n",
    "raw_data.head(5)          # выводим на экран первые 10 строк для проверки"
   ]
  },
  {
   "cell_type": "code",
   "execution_count": 217,
   "id": "6b1a11fe",
   "metadata": {},
   "outputs": [
    {
     "data": {
      "text/plain": [
       "(73861, 23)"
      ]
     },
     "execution_count": 217,
     "metadata": {},
     "output_type": "execute_result"
    }
   ],
   "source": [
    "raw_data.shape # Определение количества строк и столбцов "
   ]
  },
  {
   "cell_type": "markdown",
   "id": "6bdcbe0d",
   "metadata": {},
   "source": [
    "## Оценка структуры"
   ]
  },
  {
   "cell_type": "markdown",
   "id": "6c7aa439",
   "metadata": {},
   "source": [
    "### Приведение типов данных"
   ]
  },
  {
   "cell_type": "code",
   "execution_count": 218,
   "id": "fbe3759b",
   "metadata": {},
   "outputs": [
    {
     "data": {
      "text/plain": [
       "BeerID             int64\n",
       "Name              object\n",
       "URL               object\n",
       "Style             object\n",
       "StyleID            int64\n",
       "Size(L)          float64\n",
       "OG               float64\n",
       "FG               float64\n",
       "ABV              float64\n",
       "IBU              float64\n",
       "Color            float64\n",
       "BoilSize         float64\n",
       "BoilTime           int64\n",
       "BoilGravity      float64\n",
       "Efficiency       float64\n",
       "MashThickness    float64\n",
       "SugarScale        object\n",
       "BrewMethod        object\n",
       "PitchRate        float64\n",
       "PrimaryTemp      float64\n",
       "PrimingMethod     object\n",
       "PrimingAmount     object\n",
       "UserId           float64\n",
       "dtype: object"
      ]
     },
     "execution_count": 218,
     "metadata": {},
     "output_type": "execute_result"
    }
   ],
   "source": [
    "raw_data.dtypes   "
   ]
  },
  {
   "cell_type": "code",
   "execution_count": 219,
   "id": "c484cccd",
   "metadata": {},
   "outputs": [],
   "source": [
    "raw_data['SugarScale']=raw_data['SugarScale'].astype('category') \n",
    "# Приведение колонки SugarScale к типу данных category\n"
   ]
  },
  {
   "cell_type": "code",
   "execution_count": 220,
   "id": "872f0cb3",
   "metadata": {},
   "outputs": [],
   "source": [
    "raw_data['BrewMethod']=raw_data['BrewMethod'].astype('category') \n",
    "# Приведение колонки BrewMethod к типу данных category\n"
   ]
  },
  {
   "cell_type": "code",
   "execution_count": 221,
   "id": "ebfb387f",
   "metadata": {},
   "outputs": [],
   "source": [
    "raw_data['Style']=raw_data['Style'].astype('category') \n",
    "# Приведение колонки Style к типу данных category\n"
   ]
  },
  {
   "cell_type": "code",
   "execution_count": 222,
   "id": "091d7520",
   "metadata": {},
   "outputs": [],
   "source": [
    "raw_data['PrimingMethod']=raw_data['PrimingMethod'].astype('category')\n",
    "# Приведение колонки PrimingMethod к типу данных category\n"
   ]
  },
  {
   "cell_type": "code",
   "execution_count": 223,
   "id": "5769056c",
   "metadata": {},
   "outputs": [
    {
     "data": {
      "text/plain": [
       "BeerID              int64\n",
       "Name               object\n",
       "URL                object\n",
       "Style            category\n",
       "StyleID             int64\n",
       "Size(L)           float64\n",
       "OG                float64\n",
       "FG                float64\n",
       "ABV               float64\n",
       "IBU               float64\n",
       "Color             float64\n",
       "BoilSize          float64\n",
       "BoilTime            int64\n",
       "BoilGravity       float64\n",
       "Efficiency        float64\n",
       "MashThickness     float64\n",
       "SugarScale       category\n",
       "BrewMethod       category\n",
       "PitchRate         float64\n",
       "PrimaryTemp       float64\n",
       "PrimingMethod    category\n",
       "PrimingAmount      object\n",
       "UserId            float64\n",
       "dtype: object"
      ]
     },
     "execution_count": 223,
     "metadata": {},
     "output_type": "execute_result"
    }
   ],
   "source": [
    "raw_data.dtypes # Проверка внесенных изменений "
   ]
  },
  {
   "cell_type": "markdown",
   "id": "4f410956",
   "metadata": {},
   "source": [
    "Name, URL, PrimingAmount не изменял, так как значения в них слишком хаотичные, включающие буквы и цифры, так что ни под Категории, ни под что-то еще они не подходят (но возможно я заблуждаюсь)"
   ]
  },
  {
   "cell_type": "markdown",
   "id": "d6710c9e",
   "metadata": {},
   "source": [
    "## Работа с пропусками и повторами"
   ]
  },
  {
   "cell_type": "markdown",
   "id": "1c2f3fa4",
   "metadata": {},
   "source": [
    "### Работа с пропусками"
   ]
  },
  {
   "cell_type": "code",
   "execution_count": 224,
   "id": "1bde8ac8",
   "metadata": {},
   "outputs": [
    {
     "name": "stdout",
     "output_type": "stream",
     "text": [
      "Пропуски по столбцам:\n",
      "BeerID               0\n",
      "Name                 2\n",
      "URL                  0\n",
      "Style              596\n",
      "StyleID              0\n",
      "Size(L)              0\n",
      "OG                   0\n",
      "FG                   0\n",
      "ABV                  0\n",
      "IBU                  0\n",
      "Color                0\n",
      "BoilSize             0\n",
      "BoilTime             0\n",
      "BoilGravity       2990\n",
      "Efficiency           0\n",
      "MashThickness    29864\n",
      "SugarScale           0\n",
      "BrewMethod           0\n",
      "PitchRate        39252\n",
      "PrimaryTemp      22662\n",
      "PrimingMethod    67101\n",
      "PrimingAmount    69087\n",
      "UserId           50490\n",
      "dtype: int64\n"
     ]
    }
   ],
   "source": [
    "print(\"Пропуски по столбцам:\")\n",
    "print(raw_data.isnull().sum()) #выявление пропусков\n"
   ]
  },
  {
   "cell_type": "markdown",
   "id": "31d29930",
   "metadata": {},
   "source": [
    "Обратил внимание, что в столбцах MashThickness, PitchRate, PrimaryTemp, PrimingMethod, PrimingAmount очень большое количество пропусков. "
   ]
  },
  {
   "cell_type": "code",
   "execution_count": 225,
   "id": "e74c5ea5",
   "metadata": {},
   "outputs": [
    {
     "name": "stdout",
     "output_type": "stream",
     "text": [
      "Процент пропусков в столбце MashThickness: 40.43%\n",
      "Процент пропусков в столбце PitchRate: 53.14%\n",
      "Процент пропусков в столбце PrimaryTemp: 30.68%\n",
      "Процент пропусков в столбце PrimingMethod: 90.85%\n",
      "Процент пропусков в столбце PrimingAmount: 93.54%\n"
     ]
    }
   ],
   "source": [
    "def missing_percent(column):\n",
    "    total = len(column)\n",
    "    missing = column.isnull().sum()\n",
    "    return (missing / total) * 100\n",
    "print(f\"Процент пропусков в столбце MashThickness: {missing_percent(raw_data['MashThickness']):.2f}%\")\n",
    "print(f\"Процент пропусков в столбце PitchRate: {missing_percent(raw_data['PitchRate']):.2f}%\")\n",
    "print(f\"Процент пропусков в столбце PrimaryTemp: {missing_percent(raw_data['PrimaryTemp']):.2f}%\")\n",
    "print(f\"Процент пропусков в столбце PrimingMethod: {missing_percent(raw_data['PrimingMethod']):.2f}%\")\n",
    "print(f\"Процент пропусков в столбце PrimingAmount: {missing_percent(raw_data['PrimingAmount']):.2f}%\")\n",
    "\n",
    "\n"
   ]
  },
  {
   "cell_type": "markdown",
   "id": "0e29fe15",
   "metadata": {},
   "source": [
    "Так как в столбцах MashThickness, PrimingMethod, PrimingAmount, PitchRate много пропусков, считаю допустимым их удалить из датасета. "
   ]
  },
  {
   "cell_type": "code",
   "execution_count": 226,
   "id": "b5b44dc9",
   "metadata": {},
   "outputs": [
    {
     "data": {
      "text/html": [
       "<div>\n",
       "<style scoped>\n",
       "    .dataframe tbody tr th:only-of-type {\n",
       "        vertical-align: middle;\n",
       "    }\n",
       "\n",
       "    .dataframe tbody tr th {\n",
       "        vertical-align: top;\n",
       "    }\n",
       "\n",
       "    .dataframe thead th {\n",
       "        text-align: right;\n",
       "    }\n",
       "</style>\n",
       "<table border=\"1\" class=\"dataframe\">\n",
       "  <thead>\n",
       "    <tr style=\"text-align: right;\">\n",
       "      <th></th>\n",
       "      <th>BeerID</th>\n",
       "      <th>Name</th>\n",
       "      <th>URL</th>\n",
       "      <th>Style</th>\n",
       "      <th>StyleID</th>\n",
       "      <th>Size(L)</th>\n",
       "      <th>OG</th>\n",
       "      <th>FG</th>\n",
       "      <th>ABV</th>\n",
       "      <th>IBU</th>\n",
       "      <th>Color</th>\n",
       "      <th>BoilSize</th>\n",
       "      <th>BoilTime</th>\n",
       "      <th>BoilGravity</th>\n",
       "      <th>Efficiency</th>\n",
       "      <th>SugarScale</th>\n",
       "      <th>BrewMethod</th>\n",
       "      <th>PrimaryTemp</th>\n",
       "      <th>UserId</th>\n",
       "    </tr>\n",
       "  </thead>\n",
       "  <tbody>\n",
       "    <tr>\n",
       "      <th>0</th>\n",
       "      <td>1</td>\n",
       "      <td>Vanilla Cream Ale</td>\n",
       "      <td>/homebrew/recipe/view/1633/vanilla-cream-ale</td>\n",
       "      <td>Cream Ale</td>\n",
       "      <td>45</td>\n",
       "      <td>21.77</td>\n",
       "      <td>1.055</td>\n",
       "      <td>1.013</td>\n",
       "      <td>5.48</td>\n",
       "      <td>17.65</td>\n",
       "      <td>4.83</td>\n",
       "      <td>28.39</td>\n",
       "      <td>75</td>\n",
       "      <td>1.038</td>\n",
       "      <td>70.0</td>\n",
       "      <td>Specific Gravity</td>\n",
       "      <td>All Grain</td>\n",
       "      <td>17.78</td>\n",
       "      <td>116.0</td>\n",
       "    </tr>\n",
       "    <tr>\n",
       "      <th>1</th>\n",
       "      <td>2</td>\n",
       "      <td>Southern Tier Pumking clone</td>\n",
       "      <td>/homebrew/recipe/view/16367/southern-tier-pumk...</td>\n",
       "      <td>Holiday/Winter Special Spiced Beer</td>\n",
       "      <td>85</td>\n",
       "      <td>20.82</td>\n",
       "      <td>1.083</td>\n",
       "      <td>1.021</td>\n",
       "      <td>8.16</td>\n",
       "      <td>60.65</td>\n",
       "      <td>15.64</td>\n",
       "      <td>24.61</td>\n",
       "      <td>60</td>\n",
       "      <td>1.070</td>\n",
       "      <td>70.0</td>\n",
       "      <td>Specific Gravity</td>\n",
       "      <td>All Grain</td>\n",
       "      <td>NaN</td>\n",
       "      <td>955.0</td>\n",
       "    </tr>\n",
       "    <tr>\n",
       "      <th>2</th>\n",
       "      <td>3</td>\n",
       "      <td>Zombie Dust Clone - EXTRACT</td>\n",
       "      <td>/homebrew/recipe/view/5920/zombie-dust-clone-e...</td>\n",
       "      <td>American IPA</td>\n",
       "      <td>7</td>\n",
       "      <td>18.93</td>\n",
       "      <td>1.063</td>\n",
       "      <td>1.018</td>\n",
       "      <td>5.91</td>\n",
       "      <td>59.25</td>\n",
       "      <td>8.98</td>\n",
       "      <td>22.71</td>\n",
       "      <td>60</td>\n",
       "      <td>NaN</td>\n",
       "      <td>70.0</td>\n",
       "      <td>Specific Gravity</td>\n",
       "      <td>extract</td>\n",
       "      <td>NaN</td>\n",
       "      <td>NaN</td>\n",
       "    </tr>\n",
       "    <tr>\n",
       "      <th>3</th>\n",
       "      <td>4</td>\n",
       "      <td>Zombie Dust Clone - ALL GRAIN</td>\n",
       "      <td>/homebrew/recipe/view/5916/zombie-dust-clone-a...</td>\n",
       "      <td>American IPA</td>\n",
       "      <td>7</td>\n",
       "      <td>22.71</td>\n",
       "      <td>1.061</td>\n",
       "      <td>1.017</td>\n",
       "      <td>5.80</td>\n",
       "      <td>54.48</td>\n",
       "      <td>8.50</td>\n",
       "      <td>26.50</td>\n",
       "      <td>60</td>\n",
       "      <td>NaN</td>\n",
       "      <td>70.0</td>\n",
       "      <td>Specific Gravity</td>\n",
       "      <td>All Grain</td>\n",
       "      <td>NaN</td>\n",
       "      <td>NaN</td>\n",
       "    </tr>\n",
       "    <tr>\n",
       "      <th>4</th>\n",
       "      <td>5</td>\n",
       "      <td>Bakke Brygg Belgisk Blonde 50 l</td>\n",
       "      <td>/homebrew/recipe/view/89534/bakke-brygg-belgis...</td>\n",
       "      <td>Belgian Blond Ale</td>\n",
       "      <td>20</td>\n",
       "      <td>50.00</td>\n",
       "      <td>1.060</td>\n",
       "      <td>1.010</td>\n",
       "      <td>6.48</td>\n",
       "      <td>17.84</td>\n",
       "      <td>4.57</td>\n",
       "      <td>60.00</td>\n",
       "      <td>90</td>\n",
       "      <td>1.050</td>\n",
       "      <td>72.0</td>\n",
       "      <td>Specific Gravity</td>\n",
       "      <td>All Grain</td>\n",
       "      <td>19.00</td>\n",
       "      <td>18325.0</td>\n",
       "    </tr>\n",
       "  </tbody>\n",
       "</table>\n",
       "</div>"
      ],
      "text/plain": [
       "   BeerID                             Name  \\\n",
       "0       1                Vanilla Cream Ale   \n",
       "1       2      Southern Tier Pumking clone   \n",
       "2       3      Zombie Dust Clone - EXTRACT   \n",
       "3       4    Zombie Dust Clone - ALL GRAIN   \n",
       "4       5  Bakke Brygg Belgisk Blonde 50 l   \n",
       "\n",
       "                                                 URL  \\\n",
       "0       /homebrew/recipe/view/1633/vanilla-cream-ale   \n",
       "1  /homebrew/recipe/view/16367/southern-tier-pumk...   \n",
       "2  /homebrew/recipe/view/5920/zombie-dust-clone-e...   \n",
       "3  /homebrew/recipe/view/5916/zombie-dust-clone-a...   \n",
       "4  /homebrew/recipe/view/89534/bakke-brygg-belgis...   \n",
       "\n",
       "                                Style  StyleID  Size(L)     OG     FG   ABV  \\\n",
       "0                           Cream Ale       45    21.77  1.055  1.013  5.48   \n",
       "1  Holiday/Winter Special Spiced Beer       85    20.82  1.083  1.021  8.16   \n",
       "2                        American IPA        7    18.93  1.063  1.018  5.91   \n",
       "3                        American IPA        7    22.71  1.061  1.017  5.80   \n",
       "4                   Belgian Blond Ale       20    50.00  1.060  1.010  6.48   \n",
       "\n",
       "     IBU  Color  BoilSize  BoilTime  BoilGravity  Efficiency  \\\n",
       "0  17.65   4.83     28.39        75        1.038        70.0   \n",
       "1  60.65  15.64     24.61        60        1.070        70.0   \n",
       "2  59.25   8.98     22.71        60          NaN        70.0   \n",
       "3  54.48   8.50     26.50        60          NaN        70.0   \n",
       "4  17.84   4.57     60.00        90        1.050        72.0   \n",
       "\n",
       "         SugarScale BrewMethod  PrimaryTemp   UserId  \n",
       "0  Specific Gravity  All Grain        17.78    116.0  \n",
       "1  Specific Gravity  All Grain          NaN    955.0  \n",
       "2  Specific Gravity    extract          NaN      NaN  \n",
       "3  Specific Gravity  All Grain          NaN      NaN  \n",
       "4  Specific Gravity  All Grain        19.00  18325.0  "
      ]
     },
     "execution_count": 226,
     "metadata": {},
     "output_type": "execute_result"
    }
   ],
   "source": [
    "raw_data=raw_data.drop(['MashThickness','PitchRate', 'PrimingAmount', 'PrimingMethod'], axis=1)\n",
    "raw_data.head(5)"
   ]
  },
  {
   "cell_type": "markdown",
   "id": "786a9166",
   "metadata": {},
   "source": [
    "Так как колонки URL, BeerID, UserId не несут полезной информации и в некоторых из них также много пропусков, их тоже удаляем"
   ]
  },
  {
   "cell_type": "code",
   "execution_count": 227,
   "id": "f9787b9f",
   "metadata": {},
   "outputs": [
    {
     "data": {
      "text/html": [
       "<div>\n",
       "<style scoped>\n",
       "    .dataframe tbody tr th:only-of-type {\n",
       "        vertical-align: middle;\n",
       "    }\n",
       "\n",
       "    .dataframe tbody tr th {\n",
       "        vertical-align: top;\n",
       "    }\n",
       "\n",
       "    .dataframe thead th {\n",
       "        text-align: right;\n",
       "    }\n",
       "</style>\n",
       "<table border=\"1\" class=\"dataframe\">\n",
       "  <thead>\n",
       "    <tr style=\"text-align: right;\">\n",
       "      <th></th>\n",
       "      <th>Name</th>\n",
       "      <th>Style</th>\n",
       "      <th>StyleID</th>\n",
       "      <th>Size(L)</th>\n",
       "      <th>OG</th>\n",
       "      <th>FG</th>\n",
       "      <th>ABV</th>\n",
       "      <th>IBU</th>\n",
       "      <th>Color</th>\n",
       "      <th>BoilSize</th>\n",
       "      <th>BoilTime</th>\n",
       "      <th>BoilGravity</th>\n",
       "      <th>Efficiency</th>\n",
       "      <th>SugarScale</th>\n",
       "      <th>BrewMethod</th>\n",
       "      <th>PrimaryTemp</th>\n",
       "    </tr>\n",
       "  </thead>\n",
       "  <tbody>\n",
       "    <tr>\n",
       "      <th>0</th>\n",
       "      <td>Vanilla Cream Ale</td>\n",
       "      <td>Cream Ale</td>\n",
       "      <td>45</td>\n",
       "      <td>21.77</td>\n",
       "      <td>1.055</td>\n",
       "      <td>1.013</td>\n",
       "      <td>5.48</td>\n",
       "      <td>17.65</td>\n",
       "      <td>4.83</td>\n",
       "      <td>28.39</td>\n",
       "      <td>75</td>\n",
       "      <td>1.038</td>\n",
       "      <td>70.0</td>\n",
       "      <td>Specific Gravity</td>\n",
       "      <td>All Grain</td>\n",
       "      <td>17.78</td>\n",
       "    </tr>\n",
       "    <tr>\n",
       "      <th>1</th>\n",
       "      <td>Southern Tier Pumking clone</td>\n",
       "      <td>Holiday/Winter Special Spiced Beer</td>\n",
       "      <td>85</td>\n",
       "      <td>20.82</td>\n",
       "      <td>1.083</td>\n",
       "      <td>1.021</td>\n",
       "      <td>8.16</td>\n",
       "      <td>60.65</td>\n",
       "      <td>15.64</td>\n",
       "      <td>24.61</td>\n",
       "      <td>60</td>\n",
       "      <td>1.070</td>\n",
       "      <td>70.0</td>\n",
       "      <td>Specific Gravity</td>\n",
       "      <td>All Grain</td>\n",
       "      <td>NaN</td>\n",
       "    </tr>\n",
       "    <tr>\n",
       "      <th>2</th>\n",
       "      <td>Zombie Dust Clone - EXTRACT</td>\n",
       "      <td>American IPA</td>\n",
       "      <td>7</td>\n",
       "      <td>18.93</td>\n",
       "      <td>1.063</td>\n",
       "      <td>1.018</td>\n",
       "      <td>5.91</td>\n",
       "      <td>59.25</td>\n",
       "      <td>8.98</td>\n",
       "      <td>22.71</td>\n",
       "      <td>60</td>\n",
       "      <td>NaN</td>\n",
       "      <td>70.0</td>\n",
       "      <td>Specific Gravity</td>\n",
       "      <td>extract</td>\n",
       "      <td>NaN</td>\n",
       "    </tr>\n",
       "    <tr>\n",
       "      <th>3</th>\n",
       "      <td>Zombie Dust Clone - ALL GRAIN</td>\n",
       "      <td>American IPA</td>\n",
       "      <td>7</td>\n",
       "      <td>22.71</td>\n",
       "      <td>1.061</td>\n",
       "      <td>1.017</td>\n",
       "      <td>5.80</td>\n",
       "      <td>54.48</td>\n",
       "      <td>8.50</td>\n",
       "      <td>26.50</td>\n",
       "      <td>60</td>\n",
       "      <td>NaN</td>\n",
       "      <td>70.0</td>\n",
       "      <td>Specific Gravity</td>\n",
       "      <td>All Grain</td>\n",
       "      <td>NaN</td>\n",
       "    </tr>\n",
       "    <tr>\n",
       "      <th>4</th>\n",
       "      <td>Bakke Brygg Belgisk Blonde 50 l</td>\n",
       "      <td>Belgian Blond Ale</td>\n",
       "      <td>20</td>\n",
       "      <td>50.00</td>\n",
       "      <td>1.060</td>\n",
       "      <td>1.010</td>\n",
       "      <td>6.48</td>\n",
       "      <td>17.84</td>\n",
       "      <td>4.57</td>\n",
       "      <td>60.00</td>\n",
       "      <td>90</td>\n",
       "      <td>1.050</td>\n",
       "      <td>72.0</td>\n",
       "      <td>Specific Gravity</td>\n",
       "      <td>All Grain</td>\n",
       "      <td>19.00</td>\n",
       "    </tr>\n",
       "  </tbody>\n",
       "</table>\n",
       "</div>"
      ],
      "text/plain": [
       "                              Name                               Style  \\\n",
       "0                Vanilla Cream Ale                           Cream Ale   \n",
       "1      Southern Tier Pumking clone  Holiday/Winter Special Spiced Beer   \n",
       "2      Zombie Dust Clone - EXTRACT                        American IPA   \n",
       "3    Zombie Dust Clone - ALL GRAIN                        American IPA   \n",
       "4  Bakke Brygg Belgisk Blonde 50 l                   Belgian Blond Ale   \n",
       "\n",
       "   StyleID  Size(L)     OG     FG   ABV    IBU  Color  BoilSize  BoilTime  \\\n",
       "0       45    21.77  1.055  1.013  5.48  17.65   4.83     28.39        75   \n",
       "1       85    20.82  1.083  1.021  8.16  60.65  15.64     24.61        60   \n",
       "2        7    18.93  1.063  1.018  5.91  59.25   8.98     22.71        60   \n",
       "3        7    22.71  1.061  1.017  5.80  54.48   8.50     26.50        60   \n",
       "4       20    50.00  1.060  1.010  6.48  17.84   4.57     60.00        90   \n",
       "\n",
       "   BoilGravity  Efficiency        SugarScale BrewMethod  PrimaryTemp  \n",
       "0        1.038        70.0  Specific Gravity  All Grain        17.78  \n",
       "1        1.070        70.0  Specific Gravity  All Grain          NaN  \n",
       "2          NaN        70.0  Specific Gravity    extract          NaN  \n",
       "3          NaN        70.0  Specific Gravity  All Grain          NaN  \n",
       "4        1.050        72.0  Specific Gravity  All Grain        19.00  "
      ]
     },
     "execution_count": 227,
     "metadata": {},
     "output_type": "execute_result"
    }
   ],
   "source": [
    "raw_data=raw_data.drop(['URL','UserId','BeerID'], axis=1)\n",
    "raw_data.head(5)"
   ]
  },
  {
   "cell_type": "markdown",
   "id": "4dd09718",
   "metadata": {},
   "source": [
    "Остальные пропуски считаю допустимыми и пока не трогаю"
   ]
  },
  {
   "cell_type": "markdown",
   "id": "71770649",
   "metadata": {},
   "source": [
    "### Работа с дубликатами"
   ]
  },
  {
   "cell_type": "code",
   "execution_count": 228,
   "id": "1fdee334",
   "metadata": {},
   "outputs": [
    {
     "name": "stdout",
     "output_type": "stream",
     "text": [
      "Количество повторов: (117, 16)\n"
     ]
    }
   ],
   "source": [
    "# Поиск повторов \n",
    "duplicate_rows_in_raw_data = raw_data[raw_data.duplicated()] \n",
    "print(\"Количество повторов:\", duplicate_rows_in_raw_data.shape)"
   ]
  },
  {
   "cell_type": "markdown",
   "id": "81b3a629",
   "metadata": {},
   "source": [
    "Считаю, что эти повторы не влияют на датасет, так как многие характеристики могут иметь схожие значения или повторяться. к тому же 117 повторов на более 70 000 записей - мало, с моей точки зрения. Оставляю без внимания "
   ]
  },
  {
   "cell_type": "markdown",
   "id": "ee9b1081",
   "metadata": {},
   "source": [
    "## Работа с выбросами"
   ]
  },
  {
   "cell_type": "markdown",
   "id": "fb1bebc5",
   "metadata": {},
   "source": [
    "Найдем выбросы по IQR. Анализируем колонки IBU, ABV, OG, FG, Color"
   ]
  },
  {
   "cell_type": "code",
   "execution_count": 229,
   "id": "772fb283",
   "metadata": {},
   "outputs": [
    {
     "name": "stdout",
     "output_type": "stream",
     "text": [
      "Анализ выбросов:\n",
      "\n",
      "ABV:\n",
      "  Всего записей: 73861\n",
      "  Выбросов: 3765 (5.1%)\n",
      "  Границы: [2.46, 9.46]\n",
      "  Мин/Макс: 0.00 / 54.72\n",
      "   Skеpsrens... = 54.72\n",
      "   FBTCZECHBEER... = 53.81\n",
      "   BCBD RIS... = 52.16\n",
      "\n",
      "IBU:\n",
      "  Всего записей: 73861\n",
      "  Выбросов: 3565 (4.8%)\n",
      "  Границы: [-26.15, 105.90]\n",
      "  Мин/Макс: 0.00 / 3409.30\n",
      "   BCBD RIS... = 3409.30\n",
      "   Shit Fuck Brewer's Friend Can't Delete M... = 2881.42\n",
      "   Citra pale ale... = 2673.83\n",
      "\n",
      "OG:\n",
      "  Всего записей: 73861\n",
      "  Выбросов: 4871 (6.6%)\n",
      "  Границы: [1.02, 1.10]\n",
      "  Мин/Макс: 1.00 / 34.03\n",
      "   Smoked braggot... = 34.03\n",
      "   26-ris (I miejsce KPD Chorzуw 2017)... = 32.50\n",
      "   TOKYO*... = 32.21\n",
      "\n",
      "FG:\n",
      "  Всего записей: 73861\n",
      "  Выбросов: 4211 (5.7%)\n",
      "  Границы: [1.00, 1.03]\n",
      "  Мин/Макс: -0.00 / 23.42\n",
      "   Propagator... = 23.42\n",
      "   Varvar Milk Stout... = 10.34\n",
      "   Wheat wine... = 9.86\n",
      "\n",
      "Color:\n",
      "  Всего записей: 73861\n",
      "  Выбросов: 7353 (10.0%)\n",
      "  Границы: [-12.26, 34.22]\n",
      "  Мин/Макс: 0.00 / 186.00\n",
      "   Smoked Oak Burbon Imperial Stout... = 186.00\n",
      "   Nut Brown Ale partial mash... = 108.65\n",
      "   Gorillaman Stout... = 95.59\n"
     ]
    },
    {
     "data": {
      "image/png": "[encoded data removed]",
      "text/plain": [
       "<Figure size 1500x1000 with 4 Axes>"
      ]
     },
     "metadata": {},
     "output_type": "display_data"
    }
   ],
   "source": [
    "\n",
    "import numpy as np\n",
    "import matplotlib.pyplot as plt\n",
    "\n",
    "# Функция для поиска выбросов через IQR\n",
    "def find_outliers(column):\n",
    "    Q1 = raw_data[column].quantile(0.25)\n",
    "    Q3 = raw_data[column].quantile(0.75)\n",
    "    IQR = Q3 - Q1\n",
    "    lower = Q1 - 1.5 * IQR\n",
    "    upper = Q3 + 1.5 * IQR\n",
    "    \n",
    "    outliers = raw_data[(raw_data[column] < lower) | (raw_data[column] > upper)]\n",
    "    return outliers, lower, upper\n",
    "\n",
    "# Анализируемые колонки\n",
    "columns = ['ABV', 'IBU', 'OG', 'FG', 'Color']\n",
    "\n",
    "print(\"Анализ выбросов:\")\n",
    "# Удаляем пропуски\n",
    "for col in columns:\n",
    "    if col in raw_data.columns:\n",
    "        clean_data = raw_data[raw_data[col].notna()]\n",
    "        if len(clean_data) > 0:\n",
    "            outliers, lower, upper = find_outliers(col)\n",
    "            \n",
    "            print(f\"\\n{col}:\")\n",
    "            print(f\"  Всего записей: {len(clean_data)}\")\n",
    "            print(f\"  Выбросов: {len(outliers)} ({len(outliers)/len(clean_data)*100:.1f}%)\")\n",
    "            print(f\"  Границы: [{lower:.2f}, {upper:.2f}]\")\n",
    "            print(f\"  Мин/Макс: {clean_data[col].min():.2f} / {clean_data[col].max():.2f}\")\n",
    "            \n",
    "# топ-3 выброса\n",
    "            if len(outliers) > 0:\n",
    "                top_outliers = outliers.nlargest(3, col)[['Name', col]]\n",
    "                for _, row in top_outliers.iterrows():\n",
    "                    print(f\"   {row['Name'][:40]}... = {row[col]:.2f}\")\n",
    "\n",
    "# Визуализация\n",
    "plt.figure(figsize=(15, 10))\n",
    "\n",
    "for i, col in enumerate(columns[:4], 1):  # Первые 4 колонки\n",
    "    plt.subplot(2, 2, i)\n",
    "    if col in raw_data.columns:\n",
    "        clean_data = raw_data[raw_data[col].notna()]\n",
    "        plt.boxplot(clean_data[col])\n",
    "        plt.title(f'Выбросы:{col}')\n",
    "        plt.ylabel(col)\n",
    "\n",
    "plt.tight_layout()\n",
    "plt.show()"
   ]
  },
  {
   "cell_type": "code",
   "execution_count": 230,
   "id": "530562bf",
   "metadata": {},
   "outputs": [
    {
     "data": {
      "text/plain": [
       "<Axes: >"
      ]
     },
     "execution_count": 230,
     "metadata": {},
     "output_type": "execute_result"
    },
    {
     "data": {
      "image/png": "[encoded data removed]",
      "text/plain": [
       "<Figure size 640x480 with 1 Axes>"
      ]
     },
     "metadata": {},
     "output_type": "display_data"
    }
   ],
   "source": [
    "raw_data['Color'].plot.box()"
   ]
  },
  {
   "cell_type": "markdown",
   "id": "1e817711",
   "metadata": {},
   "source": [
    "Из визуального осмотра делаю вывод, что выбросов много, однако в случае с колонками начальной и конечной экстрактивности (OG, FG соответсвенно), цветностью Color они не критичны, так как эти показатели могут принимать достаточно большие значения. В случае с Крепостью (ABV) и горечью IBU нужно принять меры. Пиво крепостью более 15 градусов - маловероятно. Гочерь более 100 единиц не воспринимается рецепторами. В связи с этим принимаю решение удалить часть значений. Также теперь датасет сохранен как clean_data"
   ]
  },
  {
   "cell_type": "code",
   "execution_count": 231,
   "id": "5a644e44",
   "metadata": {},
   "outputs": [
    {
     "name": "stdout",
     "output_type": "stream",
     "text": [
      "ДО удаления:\n",
      "Всего записей: 73861\n",
      "Записей с ABV > 20: 54\n",
      "Максимальное ABV: 54.72%\n",
      "\n",
      "ПОСЛЕ удаления:\n",
      "Всего записей: 73807\n",
      "Удалено записей: 54\n",
      "Максимальное ABV: 19.93%\n"
     ]
    }
   ],
   "source": [
    "# Удаление значений ABV более 20\n",
    "print(\"ДО удаления:\")\n",
    "print(f\"Всего записей: {len(raw_data)}\")\n",
    "print(f\"Записей с ABV > 20: {len(raw_data[raw_data['ABV'] > 20])}\")\n",
    "print(f\"Максимальное ABV: {raw_data['ABV'].max():.2f}%\")\n",
    "clean_data = raw_data[raw_data['ABV'] <= 20].copy()\n",
    "\n",
    "print(f\"\\nПОСЛЕ удаления:\")\n",
    "print(f\"Всего записей: {len(clean_data)}\")\n",
    "print(f\"Удалено записей: {len(raw_data) - len(clean_data)}\")\n",
    "print(f\"Максимальное ABV: {clean_data['ABV'].max():.2f}%\")"
   ]
  },
  {
   "cell_type": "code",
   "execution_count": 232,
   "id": "4b76376d",
   "metadata": {},
   "outputs": [
    {
     "name": "stdout",
     "output_type": "stream",
     "text": [
      "ДО удаления:\n",
      "Всего записей: 73861\n",
      "Записей с IBU > 150: 1172\n",
      "Максимальное IBU: 3409.30\n",
      "\n",
      "ПОСЛЕ удаления:\n",
      "Всего записей: 72689\n",
      "Удалено записей: 1172\n",
      "Максимальное IBU: 149.94\n"
     ]
    }
   ],
   "source": [
    "# Удаление значений IBU более 150\n",
    "print(\"ДО удаления:\")\n",
    "print(f\"Всего записей: {len(raw_data)}\")\n",
    "print(f\"Записей с IBU > 150: {len(raw_data[raw_data['IBU'] > 150])}\")\n",
    "print(f\"Максимальное IBU: {raw_data['IBU'].max():.2f}\")\n",
    "\n",
    "clean_data = raw_data[raw_data['IBU'] <= 150].copy()\n",
    "\n",
    "print(f\"\\nПОСЛЕ удаления:\")\n",
    "print(f\"Всего записей: {len(clean_data)}\")\n",
    "print(f\"Удалено записей: {len(raw_data) - len(clean_data)}\")\n",
    "print(f\"Максимальное IBU: {clean_data['IBU'].max():.2f}\")"
   ]
  },
  {
   "cell_type": "markdown",
   "id": "b52e9d52",
   "metadata": {},
   "source": [
    "## Корреляции"
   ]
  },
  {
   "cell_type": "markdown",
   "id": "729dceb6",
   "metadata": {},
   "source": [
    "Для проверки взаимосвязи характеристик построим матрицу корреляций"
   ]
  },
  {
   "cell_type": "code",
   "execution_count": 233,
   "id": "c0924b1f",
   "metadata": {},
   "outputs": [
    {
     "name": "stdout",
     "output_type": "stream",
     "text": [
      "Числовые колонки для корреляции:\n",
      "['StyleID', 'Size(L)', 'OG', 'FG', 'ABV', 'IBU', 'Color', 'BoilSize', 'BoilTime', 'BoilGravity', 'Efficiency', 'PrimaryTemp']\n",
      "\n",
      "МАТРИЦА КОРРЕЛЯЦИЙ\n",
      "==================================================\n",
      "             StyleID  Size(L)     OG     FG    ABV    IBU  Color  BoilSize  \\\n",
      "StyleID        1.000   -0.007  0.002  0.007  0.007 -0.197  0.165    -0.007   \n",
      "Size(L)       -0.007    1.000  0.163  0.142 -0.013 -0.037 -0.018     0.994   \n",
      "OG             0.002    0.163  1.000  0.936  0.030  0.006  0.013     0.166   \n",
      "FG             0.007    0.142  0.936  1.000  0.027  0.007  0.030     0.144   \n",
      "ABV            0.007   -0.013  0.030  0.027  1.000  0.305  0.275    -0.010   \n",
      "IBU           -0.197   -0.037  0.006  0.007  0.305  1.000  0.111    -0.035   \n",
      "Color          0.165   -0.018  0.013  0.030  0.275  0.111  1.000    -0.017   \n",
      "BoilSize      -0.007    0.994  0.166  0.144 -0.010 -0.035 -0.017     1.000   \n",
      "BoilTime       0.079    0.046  0.033  0.030  0.114  0.077  0.060     0.052   \n",
      "BoilGravity    0.002    0.177  0.968  0.909  0.027 -0.002  0.013     0.177   \n",
      "Efficiency     0.021    0.109  0.068  0.062  0.051 -0.032 -0.017     0.122   \n",
      "PrimaryTemp   -0.019    0.005  0.001  0.005  0.061  0.048  0.026     0.003   \n",
      "\n",
      "             BoilTime  BoilGravity  Efficiency  PrimaryTemp  \n",
      "StyleID         0.079        0.002       0.021       -0.019  \n",
      "Size(L)         0.046        0.177       0.109        0.005  \n",
      "OG              0.033        0.968       0.068        0.001  \n",
      "FG              0.030        0.909       0.062        0.005  \n",
      "ABV             0.114        0.027       0.051        0.061  \n",
      "IBU             0.077       -0.002      -0.032        0.048  \n",
      "Color           0.060        0.013      -0.017        0.026  \n",
      "BoilSize        0.052        0.177       0.122        0.003  \n",
      "BoilTime        1.000        0.028       0.164       -0.082  \n",
      "BoilGravity     0.028        1.000       0.060        0.002  \n",
      "Efficiency      0.164        0.060       1.000       -0.071  \n",
      "PrimaryTemp    -0.082        0.002      -0.071        1.000  \n"
     ]
    }
   ],
   "source": [
    "numeric_columns = clean_data.select_dtypes(include=[np.number]).columns.tolist()\n",
    "\n",
    "print(\"Числовые колонки для корреляции:\")\n",
    "print(numeric_columns)\n",
    "\n",
    "# Создаем матрицу корреляций только для числовых колонок\n",
    "correlation_matrix = clean_data[numeric_columns].corr()\n",
    "\n",
    "print(\"\\nМАТРИЦА КОРРЕЛЯЦИЙ\")\n",
    "print(\"=\" * 50)\n",
    "print(correlation_matrix.round(3))"
   ]
  },
  {
   "cell_type": "code",
   "execution_count": 234,
   "id": "6b946506",
   "metadata": {},
   "outputs": [
    {
     "data": {
      "image/png": "[encoded data removed]",
      "text/plain": [
       "<Figure size 1200x1000 with 2 Axes>"
      ]
     },
     "metadata": {},
     "output_type": "display_data"
    }
   ],
   "source": [
    "# Построение более читаемой матрицы\n",
    "import seaborn as sns\n",
    "\n",
    "plt.figure(figsize=(12, 10))\n",
    "sns.heatmap(correlation_matrix, \n",
    "            annot=True, \n",
    "            cmap='coolwarm', \n",
    "            center=0,\n",
    "            square=True,\n",
    "            fmt='.2f',\n",
    "            linewidths=0.5)\n",
    "\n",
    "plt.title('Матрица корреляций числовых параметров', fontsize=16, pad=20)\n",
    "plt.xticks(rotation=45, ha='right')\n",
    "plt.yticks(rotation=0)\n",
    "plt.tight_layout()\n",
    "plt.show()"
   ]
  },
  {
   "cell_type": "markdown",
   "id": "ae1fb778",
   "metadata": {},
   "source": [
    "Данные имеют очень слабую взаимосвязь. Исключения - Удельный вес сусла (BoilGravity) и экстрактивность сусла, а также Объем варки и конечный объем продукта"
   ]
  }
 ],
 "metadata": {
  "kernelspec": {
   "display_name": "my_env",
   "language": "python",
   "name": "python3"
  },
  "language_info": {
   "codemirror_mode": {
    "name": "ipython",
    "version": 3
   },
   "file_extension": ".py",
   "mimetype": "text/x-python",
   "name": "python",
   "nbconvert_exporter": "python",
   "pygments_lexer": "ipython3",
   "version": "3.13.7"
  }
 },
 "nbformat": 4,
 "nbformat_minor": 5
}
